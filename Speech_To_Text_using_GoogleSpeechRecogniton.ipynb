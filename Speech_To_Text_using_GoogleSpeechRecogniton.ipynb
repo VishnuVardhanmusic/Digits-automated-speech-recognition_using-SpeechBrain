{
  "nbformat": 4,
  "nbformat_minor": 0,
  "metadata": {
    "colab": {
      "name": "Speech_To_Text_using_GoogleSpeechRecogniton.ipynb",
      "provenance": [],
      "collapsed_sections": []
    },
    "kernelspec": {
      "name": "python3",
      "display_name": "Python 3"
    },
    "language_info": {
      "name": "python"
    }
  },
  "cells": [
    {
      "cell_type": "code",
      "execution_count": 2,
      "metadata": {
        "colab": {
          "base_uri": "https://localhost:8080/"
        },
        "id": "nfn7dUtLRTMA",
        "outputId": "bc5867bb-f3b4-425d-cfd5-8234572022e1"
      },
      "outputs": [
        {
          "output_type": "stream",
          "name": "stdout",
          "text": [
            "Collecting SpeechRecognition\n",
            "  Downloading SpeechRecognition-3.8.1-py2.py3-none-any.whl (32.8 MB)\n",
            "\u001b[K     |████████████████████████████████| 32.8 MB 1.7 MB/s \n",
            "\u001b[?25hInstalling collected packages: SpeechRecognition\n",
            "Successfully installed SpeechRecognition-3.8.1\n"
          ]
        }
      ],
      "source": [
        "pip install SpeechRecognition\n"
      ]
    },
    {
      "cell_type": "code",
      "source": [
        "#import library\n",
        "import speech_recognition as sr\n",
        "\n",
        "# Initialize recognizer class (for recognizing the speech)\n",
        "r = sr.Recognizer()\n",
        "\n",
        "# Reading Audio file as source\n",
        "# listening the audio file and store in audio_text variable\n",
        "\n",
        "with sr.AudioFile('recordings_0_jackson_23.wav') as source:\n",
        "    \n",
        "    audio_text = r.listen(source)\n",
        "    \n",
        "# recoginize_() method will throw a request error if the API is unreachable, hence using exception handling\n",
        "    try:\n",
        "        \n",
        "        # using google speech recognition\n",
        "        text = r.recognize_google(audio_text)\n",
        "        print('Converting audio transcripts into text ...')\n",
        "        print(text)\n",
        "     \n",
        "    except:\n",
        "         print('Sorry.. Model unable to convert...')"
      ],
      "metadata": {
        "id": "gfRIeSXXRxSQ"
      },
      "execution_count": null,
      "outputs": []
    },
    {
      "cell_type": "code",
      "source": [
        ""
      ],
      "metadata": {
        "id": "E2ZK_VfEQN6O"
      },
      "execution_count": null,
      "outputs": []
    },
    {
      "cell_type": "code",
      "source": [
        "import zipfile\n",
        "#import library\n",
        "import speech_recognition as sr\n",
        "#import zipfile\n",
        "from zipfile import ZipFile\n",
        "\n",
        "file_name = '/recordings.zip'\n",
        "\n",
        "with ZipFile(file_name, 'r') as zip:\n",
        "  zip.extractall()\n",
        "  print('Done')\n",
        "print(zip)\n",
        "#file=zipfile.ZipFile(\"recordings.zip\",\"r\")\n",
        "# Initialize recognizer class (for recognizing the speech)\n",
        "r = sr.Recognizer()\n",
        "\n",
        "# Reading Audio file as source\n",
        "# listening the audio file and store in audio_text variable\n",
        "for z in zip:\n",
        "  with sr.AudioFile(z) as source:\n",
        "    audio_text = r.listen(source)\n",
        "    try:\n",
        "        \n",
        "        # using google speech recognition\n",
        "        text = r.recognize_google(audio_text)\n",
        "        print('Converting audio transcripts into text ...')\n",
        "        print(text)\n",
        "     \n",
        "    except:\n",
        "         print('Sorry.. Model unable to convert...')"
      ],
      "metadata": {
        "id": "NxpDyxfrTClk"
      },
      "execution_count": null,
      "outputs": []
    },
    {
      "cell_type": "code",
      "source": [
        "import zipfile\n",
        "#import library\n",
        "import speech_recognition as sr\n",
        "import zipfile\n",
        "with zipfile.ZipFile('/recordings.zip',\"r\") as f:\n",
        "  for name in f.namelist():\n",
        "    r = sr.Recognizer()\n",
        "    print(name)\n",
        "    with sr.AudioFile(name) as source:\n",
        "      audio_text = r.listen(source)\n",
        "      try:\n",
        "        text = r.recognize_google(audio_text)\n",
        "        print('Converting audio transcripts into text ...')\n",
        "        print(text)\n",
        "      except:\n",
        "         print('Sorry.. Model unable to convert...')\n",
        "\n",
        "  "
      ],
      "metadata": {
        "id": "yhRoTSAca0_x"
      },
      "execution_count": null,
      "outputs": []
    }
  ]
}