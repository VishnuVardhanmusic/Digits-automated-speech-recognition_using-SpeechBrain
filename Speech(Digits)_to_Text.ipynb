{
  "nbformat": 4,
  "nbformat_minor": 0,
  "metadata": {
    "colab": {
      "name": "Speech(Digits)_to_Text.ipynb",
      "provenance": [],
      "collapsed_sections": []
    },
    "kernelspec": {
      "name": "python3",
      "display_name": "Python 3"
    },
    "language_info": {
      "name": "python"
    }
  },
  "cells": [
    {
      "cell_type": "code",
      "source": [
        "@misc {speechbrain,\n",
        "  title={{SpeechBrain}: A General-Purpose Speech Toolkit},\n",
        "  author={Mirco Ravanelli and Titouan Parcollet and Peter Plantinga and Aku Rouhe and Samuele Cornell and Loren Lugosch and Cem Subakan and Nauman Dawalatabad and Abdelwahab Heba and Jianyuan Zhong and Ju-Chieh Chou and Sung-Lin Yeh and Szu-Wei Fu and Chien-Feng Liao and Elena Rastorgueva and François Grondin and William Aris and Hwidong Na and Yan Gao and Renato De Mori and Yoshua Bengio},\n",
        "  year={2021},\n",
        "  eprint={2106.04624},\n",
        "  archivePrefix={arXiv},\n",
        "  primaryClass={eess.AS},\n",
        "  note={arXiv:2106.04624}\n",
        "}"
      ],
      "metadata": {
        "id": "NI9K8l5mMolo"
      },
      "execution_count": null,
      "outputs": []
    },
    {
      "cell_type": "code",
      "execution_count": null,
      "metadata": {
        "id": "wNyyEQ2bKGfR",
        "colab": {
          "base_uri": "https://localhost:8080/"
        },
        "outputId": "b978bcf8-3602-4942-be97-155f16a0b0c4"
      },
      "outputs": [
        {
          "output_type": "stream",
          "name": "stdout",
          "text": [
            "Collecting speechbrain\n",
            "  Downloading speechbrain-0.5.11-py3-none-any.whl (408 kB)\n",
            "\u001b[?25l\r\u001b[K     |▉                               | 10 kB 18.9 MB/s eta 0:00:01\r\u001b[K     |█▋                              | 20 kB 23.8 MB/s eta 0:00:01\r\u001b[K     |██▍                             | 30 kB 28.4 MB/s eta 0:00:01\r\u001b[K     |███▏                            | 40 kB 29.8 MB/s eta 0:00:01\r\u001b[K     |████                            | 51 kB 22.5 MB/s eta 0:00:01\r\u001b[K     |████▉                           | 61 kB 25.1 MB/s eta 0:00:01\r\u001b[K     |█████▋                          | 71 kB 24.7 MB/s eta 0:00:01\r\u001b[K     |██████▍                         | 81 kB 25.5 MB/s eta 0:00:01\r\u001b[K     |███████▎                        | 92 kB 27.5 MB/s eta 0:00:01\r\u001b[K     |████████                        | 102 kB 25.9 MB/s eta 0:00:01\r\u001b[K     |████████▉                       | 112 kB 25.9 MB/s eta 0:00:01\r\u001b[K     |█████████▋                      | 122 kB 25.9 MB/s eta 0:00:01\r\u001b[K     |██████████▍                     | 133 kB 25.9 MB/s eta 0:00:01\r\u001b[K     |███████████▎                    | 143 kB 25.9 MB/s eta 0:00:01\r\u001b[K     |████████████                    | 153 kB 25.9 MB/s eta 0:00:01\r\u001b[K     |████████████▉                   | 163 kB 25.9 MB/s eta 0:00:01\r\u001b[K     |█████████████▋                  | 174 kB 25.9 MB/s eta 0:00:01\r\u001b[K     |██████████████▌                 | 184 kB 25.9 MB/s eta 0:00:01\r\u001b[K     |███████████████▎                | 194 kB 25.9 MB/s eta 0:00:01\r\u001b[K     |████████████████                | 204 kB 25.9 MB/s eta 0:00:01\r\u001b[K     |████████████████▉               | 215 kB 25.9 MB/s eta 0:00:01\r\u001b[K     |█████████████████▋              | 225 kB 25.9 MB/s eta 0:00:01\r\u001b[K     |██████████████████▌             | 235 kB 25.9 MB/s eta 0:00:01\r\u001b[K     |███████████████████▎            | 245 kB 25.9 MB/s eta 0:00:01\r\u001b[K     |████████████████████            | 256 kB 25.9 MB/s eta 0:00:01\r\u001b[K     |████████████████████▉           | 266 kB 25.9 MB/s eta 0:00:01\r\u001b[K     |█████████████████████▊          | 276 kB 25.9 MB/s eta 0:00:01\r\u001b[K     |██████████████████████▌         | 286 kB 25.9 MB/s eta 0:00:01\r\u001b[K     |███████████████████████▎        | 296 kB 25.9 MB/s eta 0:00:01\r\u001b[K     |████████████████████████        | 307 kB 25.9 MB/s eta 0:00:01\r\u001b[K     |█████████████████████████       | 317 kB 25.9 MB/s eta 0:00:01\r\u001b[K     |█████████████████████████▊      | 327 kB 25.9 MB/s eta 0:00:01\r\u001b[K     |██████████████████████████▌     | 337 kB 25.9 MB/s eta 0:00:01\r\u001b[K     |███████████████████████████▎    | 348 kB 25.9 MB/s eta 0:00:01\r\u001b[K     |████████████████████████████    | 358 kB 25.9 MB/s eta 0:00:01\r\u001b[K     |█████████████████████████████   | 368 kB 25.9 MB/s eta 0:00:01\r\u001b[K     |█████████████████████████████▊  | 378 kB 25.9 MB/s eta 0:00:01\r\u001b[K     |██████████████████████████████▌ | 389 kB 25.9 MB/s eta 0:00:01\r\u001b[K     |███████████████████████████████▎| 399 kB 25.9 MB/s eta 0:00:01\r\u001b[K     |████████████████████████████████| 408 kB 25.9 MB/s \n",
            "\u001b[?25hCollecting transformers\n",
            "  Downloading transformers-4.18.0-py3-none-any.whl (4.0 MB)\n",
            "\u001b[K     |████████████████████████████████| 4.0 MB 48.5 MB/s \n",
            "\u001b[?25hRequirement already satisfied: packaging in /usr/local/lib/python3.7/dist-packages (from speechbrain) (21.3)\n",
            "Collecting huggingface-hub\n",
            "  Downloading huggingface_hub-0.5.1-py3-none-any.whl (77 kB)\n",
            "\u001b[K     |████████████████████████████████| 77 kB 6.2 MB/s \n",
            "\u001b[?25hRequirement already satisfied: tqdm in /usr/local/lib/python3.7/dist-packages (from speechbrain) (4.63.0)\n",
            "Requirement already satisfied: scipy in /usr/local/lib/python3.7/dist-packages (from speechbrain) (1.4.1)\n",
            "Requirement already satisfied: numpy in /usr/local/lib/python3.7/dist-packages (from speechbrain) (1.21.5)\n",
            "Requirement already satisfied: torchaudio in /usr/local/lib/python3.7/dist-packages (from speechbrain) (0.10.0+cu111)\n",
            "Requirement already satisfied: torch<=1.11,>=1.7 in /usr/local/lib/python3.7/dist-packages (from speechbrain) (1.10.0+cu111)\n",
            "Collecting sentencepiece\n",
            "  Downloading sentencepiece-0.1.96-cp37-cp37m-manylinux_2_17_x86_64.manylinux2014_x86_64.whl (1.2 MB)\n",
            "\u001b[K     |████████████████████████████████| 1.2 MB 47.8 MB/s \n",
            "\u001b[?25hRequirement already satisfied: joblib in /usr/local/lib/python3.7/dist-packages (from speechbrain) (1.1.0)\n",
            "Collecting hyperpyyaml\n",
            "  Downloading HyperPyYAML-1.0.0-py3-none-any.whl (15 kB)\n",
            "Requirement already satisfied: typing-extensions in /usr/local/lib/python3.7/dist-packages (from torch<=1.11,>=1.7->speechbrain) (3.10.0.2)\n",
            "Collecting tokenizers!=0.11.3,<0.13,>=0.11.1\n",
            "  Downloading tokenizers-0.11.6-cp37-cp37m-manylinux_2_12_x86_64.manylinux2010_x86_64.whl (6.5 MB)\n",
            "\u001b[K     |████████████████████████████████| 6.5 MB 43.7 MB/s \n",
            "\u001b[?25hCollecting sacremoses\n",
            "  Downloading sacremoses-0.0.49-py3-none-any.whl (895 kB)\n",
            "\u001b[K     |████████████████████████████████| 895 kB 46.9 MB/s \n",
            "\u001b[?25hRequirement already satisfied: filelock in /usr/local/lib/python3.7/dist-packages (from transformers) (3.6.0)\n",
            "Requirement already satisfied: regex!=2019.12.17 in /usr/local/lib/python3.7/dist-packages (from transformers) (2019.12.20)\n",
            "Collecting pyyaml>=5.1\n",
            "  Downloading PyYAML-6.0-cp37-cp37m-manylinux_2_5_x86_64.manylinux1_x86_64.manylinux_2_12_x86_64.manylinux2010_x86_64.whl (596 kB)\n",
            "\u001b[K     |████████████████████████████████| 596 kB 40.8 MB/s \n",
            "\u001b[?25hRequirement already satisfied: importlib-metadata in /usr/local/lib/python3.7/dist-packages (from transformers) (4.11.3)\n",
            "Requirement already satisfied: requests in /usr/local/lib/python3.7/dist-packages (from transformers) (2.23.0)\n",
            "Requirement already satisfied: pyparsing!=3.0.5,>=2.0.2 in /usr/local/lib/python3.7/dist-packages (from packaging->speechbrain) (3.0.7)\n",
            "Collecting ruamel.yaml>=0.15\n",
            "  Downloading ruamel.yaml-0.17.21-py3-none-any.whl (109 kB)\n",
            "\u001b[K     |████████████████████████████████| 109 kB 61.7 MB/s \n",
            "\u001b[?25hCollecting ruamel.yaml.clib>=0.2.6\n",
            "  Downloading ruamel.yaml.clib-0.2.6-cp37-cp37m-manylinux1_x86_64.whl (546 kB)\n",
            "\u001b[K     |████████████████████████████████| 546 kB 56.9 MB/s \n",
            "\u001b[?25hRequirement already satisfied: zipp>=0.5 in /usr/local/lib/python3.7/dist-packages (from importlib-metadata->transformers) (3.7.0)\n",
            "Requirement already satisfied: chardet<4,>=3.0.2 in /usr/local/lib/python3.7/dist-packages (from requests->transformers) (3.0.4)\n",
            "Requirement already satisfied: idna<3,>=2.5 in /usr/local/lib/python3.7/dist-packages (from requests->transformers) (2.10)\n",
            "Requirement already satisfied: certifi>=2017.4.17 in /usr/local/lib/python3.7/dist-packages (from requests->transformers) (2021.10.8)\n",
            "Requirement already satisfied: urllib3!=1.25.0,!=1.25.1,<1.26,>=1.21.1 in /usr/local/lib/python3.7/dist-packages (from requests->transformers) (1.24.3)\n",
            "Requirement already satisfied: click in /usr/local/lib/python3.7/dist-packages (from sacremoses->transformers) (7.1.2)\n",
            "Requirement already satisfied: six in /usr/local/lib/python3.7/dist-packages (from sacremoses->transformers) (1.15.0)\n",
            "Installing collected packages: ruamel.yaml.clib, ruamel.yaml, pyyaml, tokenizers, sentencepiece, sacremoses, hyperpyyaml, huggingface-hub, transformers, speechbrain\n",
            "  Attempting uninstall: pyyaml\n",
            "    Found existing installation: PyYAML 3.13\n",
            "    Uninstalling PyYAML-3.13:\n",
            "      Successfully uninstalled PyYAML-3.13\n",
            "Successfully installed huggingface-hub-0.5.1 hyperpyyaml-1.0.0 pyyaml-6.0 ruamel.yaml-0.17.21 ruamel.yaml.clib-0.2.6 sacremoses-0.0.49 sentencepiece-0.1.96 speechbrain-0.5.11 tokenizers-0.11.6 transformers-4.18.0\n"
          ]
        }
      ],
      "source": [
        "!pip install speechbrain transformers"
      ]
    },
    {
      "cell_type": "code",
      "source": [
        "asr_model.transcribe_file(\"/content/recordings_1_jackson_40.wav\")"
      ],
      "metadata": {
        "colab": {
          "base_uri": "https://localhost:8080/",
          "height": 35
        },
        "id": "eVi0KleJLVyJ",
        "outputId": "026a627f-8913-4b04-cbfd-8e4a36d64891"
      },
      "execution_count": null,
      "outputs": [
        {
          "output_type": "execute_result",
          "data": {
            "text/plain": [
              "'ONE'"
            ],
            "application/vnd.google.colaboratory.intrinsic+json": {
              "type": "string"
            }
          },
          "metadata": {},
          "execution_count": 9
        }
      ]
    },
    {
      "cell_type": "code",
      "source": [
        "asr_model.transcribe_file(\"/content/recordings_1_nicolas_38.wav\")"
      ],
      "metadata": {
        "colab": {
          "base_uri": "https://localhost:8080/",
          "height": 35
        },
        "id": "7PuJLCu_OXUY",
        "outputId": "44569162-db4c-4568-8273-a1a85f777625"
      },
      "execution_count": null,
      "outputs": [
        {
          "output_type": "execute_result",
          "data": {
            "text/plain": [
              "'ONE'"
            ],
            "application/vnd.google.colaboratory.intrinsic+json": {
              "type": "string"
            }
          },
          "metadata": {},
          "execution_count": 10
        }
      ]
    },
    {
      "cell_type": "code",
      "source": [
        "asr_model.transcribe_file(\"/content/recordings_2_nicolas_17.wav\")"
      ],
      "metadata": {
        "colab": {
          "base_uri": "https://localhost:8080/",
          "height": 35
        },
        "id": "swHp8KauOdG-",
        "outputId": "04b8fb00-1a5a-461c-b3f0-2977d694b3c0"
      },
      "execution_count": null,
      "outputs": [
        {
          "output_type": "execute_result",
          "data": {
            "text/plain": [
              "'S'"
            ],
            "application/vnd.google.colaboratory.intrinsic+json": {
              "type": "string"
            }
          },
          "metadata": {},
          "execution_count": 5
        }
      ]
    },
    {
      "cell_type": "code",
      "source": [
        "asr_model.transcribe_file(\"/content/recordings_3_jackson_48.wav\")"
      ],
      "metadata": {
        "colab": {
          "base_uri": "https://localhost:8080/",
          "height": 35
        },
        "id": "P7Jrfqx5MlGQ",
        "outputId": "45bff487-ded6-4afd-e216-cad24935c515"
      },
      "execution_count": null,
      "outputs": [
        {
          "output_type": "execute_result",
          "data": {
            "text/plain": [
              "'READ'"
            ],
            "application/vnd.google.colaboratory.intrinsic+json": {
              "type": "string"
            }
          },
          "metadata": {},
          "execution_count": 4
        }
      ]
    },
    {
      "cell_type": "code",
      "source": [
        "asr_model.transcribe_file(\"/content/5_theo_47.wav\")"
      ],
      "metadata": {
        "colab": {
          "base_uri": "https://localhost:8080/",
          "height": 35
        },
        "id": "qgcx1Y_3ODAc",
        "outputId": "167243e0-4298-4ed9-9e25-9f9518013d33"
      },
      "execution_count": null,
      "outputs": [
        {
          "output_type": "execute_result",
          "data": {
            "text/plain": [
              "'FRYE'"
            ],
            "application/vnd.google.colaboratory.intrinsic+json": {
              "type": "string"
            }
          },
          "metadata": {},
          "execution_count": 13
        }
      ]
    },
    {
      "cell_type": "code",
      "source": [
        "asr_model.transcribe_file(\"/content/6_jackson_36.wav\")"
      ],
      "metadata": {
        "colab": {
          "base_uri": "https://localhost:8080/",
          "height": 35
        },
        "id": "WLQ3uNlYPYZQ",
        "outputId": "960722a7-e647-458e-de09-c08af3f750e8"
      },
      "execution_count": null,
      "outputs": [
        {
          "output_type": "execute_result",
          "data": {
            "text/plain": [
              "'SIX'"
            ],
            "application/vnd.google.colaboratory.intrinsic+json": {
              "type": "string"
            }
          },
          "metadata": {},
          "execution_count": 14
        }
      ]
    },
    {
      "cell_type": "code",
      "source": [
        "asr_model.transcribe_file(\"/content/8_theo_41.wav\")"
      ],
      "metadata": {
        "colab": {
          "base_uri": "https://localhost:8080/",
          "height": 35
        },
        "id": "SfHCnqFdNcfX",
        "outputId": "2338c7f5-7952-4924-f2dd-610fba37cf38"
      },
      "execution_count": null,
      "outputs": [
        {
          "output_type": "execute_result",
          "data": {
            "text/plain": [
              "'IGHTIGHTIGHTIGHTIGHTIGHTIGHTIGHTIGHTIGHTIGHTIGHTIGHTIGHTIGHTIGHTIGHT'"
            ],
            "application/vnd.google.colaboratory.intrinsic+json": {
              "type": "string"
            }
          },
          "metadata": {},
          "execution_count": 7
        }
      ]
    },
    {
      "cell_type": "code",
      "source": [
        "asr_model.transcribe_file(\"/content/8_theo_39.wav\")"
      ],
      "metadata": {
        "colab": {
          "base_uri": "https://localhost:8080/",
          "height": 35
        },
        "id": "jAl8gfaaNibM",
        "outputId": "90eb173d-df89-4ffa-b679-1c0ca12834df"
      },
      "execution_count": null,
      "outputs": [
        {
          "output_type": "execute_result",
          "data": {
            "text/plain": [
              "'EAT'"
            ],
            "application/vnd.google.colaboratory.intrinsic+json": {
              "type": "string"
            }
          },
          "metadata": {},
          "execution_count": 15
        }
      ]
    },
    {
      "cell_type": "code",
      "source": [
        "asr_model.transcribe_file(\"/content/9_yweweler_48.wav\")"
      ],
      "metadata": {
        "colab": {
          "base_uri": "https://localhost:8080/",
          "height": 35
        },
        "id": "6AchMfhAN2rQ",
        "outputId": "d31dae84-4d50-4a12-9e62-9d844278dd4a"
      },
      "execution_count": null,
      "outputs": [
        {
          "output_type": "execute_result",
          "data": {
            "text/plain": [
              "'ZINE'"
            ],
            "application/vnd.google.colaboratory.intrinsic+json": {
              "type": "string"
            }
          },
          "metadata": {},
          "execution_count": 8
        }
      ]
    }
  ]
}